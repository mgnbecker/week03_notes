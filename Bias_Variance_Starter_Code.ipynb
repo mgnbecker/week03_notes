{
 "cells": [
  {
   "cell_type": "code",
   "execution_count": 7,
   "metadata": {
    "collapsed": false
   },
   "outputs": [],
   "source": [
    "% matplotlib inline\n",
    "from __future__ import print_function\n",
    "import random\n",
    "\n",
    "from matplotlib import pyplot as plt\n",
    "import numpy as np\n",
    "import pandas as pd\n",
    "from scipy import stats\n",
    "# from sklearn import datasets, linear_model\n",
    "import statsmodels.api as sm"
   ]
  },
  {
   "cell_type": "code",
   "execution_count": 15,
   "metadata": {
    "collapsed": false
   },
   "outputs": [],
   "source": [
    "def polynomials(X, degree=1):\n",
    "    # See also numpy.vander\n",
    "    array = [X]\n",
    "    y = X\n",
    "    for i in range(2, int(degree + 1)):\n",
    "        y = y * X\n",
    "        array.append(y)\n",
    "    return np.array(array).transpose()"
   ]
  },
  {
   "cell_type": "code",
   "execution_count": 20,
   "metadata": {
    "collapsed": false
   },
   "outputs": [],
   "source": [
    "X = np.array(range(10))"
   ]
  },
  {
   "cell_type": "code",
   "execution_count": 21,
   "metadata": {
    "collapsed": false
   },
   "outputs": [
    {
     "data": {
      "text/plain": [
       "array([0, 1, 2, 3, 4, 5, 6, 7, 8, 9])"
      ]
     },
     "execution_count": 21,
     "metadata": {},
     "output_type": "execute_result"
    }
   ],
   "source": [
    "X"
   ]
  },
  {
   "cell_type": "code",
   "execution_count": 22,
   "metadata": {
    "collapsed": false
   },
   "outputs": [
    {
     "data": {
      "text/plain": [
       "array([[  0,   0,   0],\n",
       "       [  1,   1,   1],\n",
       "       [  2,   4,   8],\n",
       "       [  3,   9,  27],\n",
       "       [  4,  16,  64],\n",
       "       [  5,  25, 125],\n",
       "       [  6,  36, 216],\n",
       "       [  7,  49, 343],\n",
       "       [  8,  64, 512],\n",
       "       [  9,  81, 729]])"
      ]
     },
     "execution_count": 22,
     "metadata": {},
     "output_type": "execute_result"
    }
   ],
   "source": [
    "polynomials(X, 3)"
   ]
  },
  {
   "cell_type": "code",
   "execution_count": 23,
   "metadata": {
    "collapsed": true
   },
   "outputs": [],
   "source": [
    "def monomials(X, degree=1):\n",
    "    y = np.array(X)\n",
    "    y = np.power(X, degree)\n",
    "    return np.array([y]).transpose()"
   ]
  },
  {
   "cell_type": "code",
   "execution_count": 24,
   "metadata": {
    "collapsed": false
   },
   "outputs": [
    {
     "data": {
      "text/plain": [
       "array([[  0],\n",
       "       [  1],\n",
       "       [  8],\n",
       "       [ 27],\n",
       "       [ 64],\n",
       "       [125],\n",
       "       [216],\n",
       "       [343],\n",
       "       [512],\n",
       "       [729]])"
      ]
     },
     "execution_count": 24,
     "metadata": {},
     "output_type": "execute_result"
    }
   ],
   "source": [
    "monomials(X, 3)"
   ]
  },
  {
   "cell_type": "code",
   "execution_count": 29,
   "metadata": {
    "collapsed": true
   },
   "outputs": [],
   "source": [
    "def generate_data(func, a, b, n=100):\n",
    "    data = []\n",
    "    for _ in range(n):\n",
    "        x = random.random() * (b - a)\n",
    "        y = func(x)\n",
    "        data.append((x, y))\n",
    "    return list(sorted(data))"
   ]
  },
  {
   "cell_type": "code",
   "execution_count": 33,
   "metadata": {
    "collapsed": false
   },
   "outputs": [
    {
     "data": {
      "text/plain": [
       "[(0.035826175952806016, 4.294736553948769),\n",
       " (0.22006821554916578, 5.0814525208319345),\n",
       " (0.255498928062166, 5.270137115943925),\n",
       " (0.435962203378256, 5.84047061327947),\n",
       " (0.6882856215624138, 6.085022055914868),\n",
       " (0.7263372709995926, 6.269806459376431),\n",
       " (0.8282580992029112, 6.159583043657718),\n",
       " (0.8364286483179062, 6.1034935696832795),\n",
       " (0.8643827452082014, 6.286677906996207),\n",
       " (1.0336910366510041, 6.191933375716383),\n",
       " (1.2692259715149534, 5.636663228093579),\n",
       " (1.2979609362933475, 5.729377630681546),\n",
       " (1.3727810195708432, 5.428574219429536),\n",
       " (1.3929705191430992, 5.458345713495861),\n",
       " (1.551087657559043, 4.939740812546168),\n",
       " (1.7898097724812823, 3.7799242368604276),\n",
       " (1.8013768563579073, 3.8838794449683656),\n",
       " (1.9186568640163113, 3.1924659148298704),\n",
       " (1.9617230789256115, 2.9764386188069754),\n",
       " (1.9865123594405854, 2.6391309113117174)]"
      ]
     },
     "execution_count": 33,
     "metadata": {},
     "output_type": "execute_result"
    }
   ],
   "source": [
    "mu, sigma = 0, 0.1\n",
    "\n",
    "f = lambda x: 4 + 5 * x - 3 * x*x + 0.1 * x * x * x + np.random.normal(mu, sigma)\n",
    "data = generate_data(f, 0, 2, n=20)\n",
    "data"
   ]
  },
  {
   "cell_type": "code",
   "execution_count": 37,
   "metadata": {
    "collapsed": false
   },
   "outputs": [
    {
     "name": "stdout",
     "output_type": "stream",
     "text": [
      "                            OLS Regression Results                            \n",
      "==============================================================================\n",
      "Dep. Variable:                      y   R-squared:                       0.630\n",
      "Model:                            OLS   Adj. R-squared:                  0.611\n",
      "Method:                 Least Squares   F-statistic:                     32.41\n",
      "Date:                Wed, 12 Oct 2016   Prob (F-statistic):           1.73e-05\n",
      "Time:                        10:45:11   Log-Likelihood:                -51.369\n",
      "No. Observations:                  20   AIC:                             104.7\n",
      "Df Residuals:                      19   BIC:                             105.7\n",
      "Df Model:                           1                                         \n",
      "Covariance Type:            nonrobust                                         \n",
      "==============================================================================\n",
      "                 coef    std err          t      P>|t|      [95.0% Conf. Int.]\n",
      "------------------------------------------------------------------------------\n",
      "x1             3.2613      0.573      5.693      0.000         2.062     4.460\n",
      "==============================================================================\n",
      "Omnibus:                        3.461   Durbin-Watson:                   0.047\n",
      "Prob(Omnibus):                  0.177   Jarque-Bera (JB):                2.263\n",
      "Skew:                          -0.634   Prob(JB):                        0.323\n",
      "Kurtosis:                       1.948   Cond. No.                         1.00\n",
      "==============================================================================\n",
      "\n",
      "Warnings:\n",
      "[1] Standard Errors assume that the covariance matrix of the errors is correctly specified.\n",
      "Residual sum of squares: 3.38\n",
      "Bias: -0.440788783096\n",
      "Variance: 3.81177703723\n"
     ]
    },
    {
     "data": {
      "image/png": "[encoded data removed]",
      "text/plain": [
       "<matplotlib.figure.Figure at 0x114671150>"
      ]
     },
     "metadata": {},
     "output_type": "display_data"
    }
   ],
   "source": [
    "domain = np.array([x[0] for x in data])\n",
    "Y = np.array([x[1] for x in data])\n",
    "\n",
    "for i in range(1, 2):\n",
    "    X = monomials(domain, i)\n",
    "    # Create linear regression object\n",
    "    regr = sm.OLS(Y, X).fit()\n",
    "\n",
    "    yhat = regr.predict(X)\n",
    "    sse = np.mean((np.mean(yhat) - Y) ** 2)\n",
    "    var = np.var(yhat)\n",
    "    bias = sse - var - 0.01\n",
    "    \n",
    "    print(regr.summary())\n",
    "\n",
    "    # The mean square error\n",
    "    print(\"Residual sum of squares: %.2f\" % sse)\n",
    "\n",
    "    print(\"Bias: {bias}\".format(bias=bias))\n",
    "    print(\"Variance: {var}\".format(var=var))\n",
    "        \n",
    "    # Plot outputs\n",
    "    plt.scatter(domain, Y,  color='black')\n",
    "    plt.plot(domain, regr.predict(X), color='blue', linewidth=3)\n",
    "\n",
    "    plt.title(\"n = \" + str(i))\n",
    "\n",
    "    plt.show()"
   ]
  },
  {
   "cell_type": "code",
   "execution_count": 45,
   "metadata": {
    "collapsed": true
   },
   "outputs": [],
   "source": [
    "for degree in range(1, 4):\n",
    "    # Generate some data\n",
    "    f = lambda x: 4 - 6 * x + 8 * x ** degree + np.random.normal(mu, sigma)\n",
    "    data = generate_data(f, 0, 2, n=25)\n",
    "\n",
    "    domain = np.array([x[0] for x in data])\n",
    "    Y = np.array([x[1] for x in data])\n",
    "\n",
    "    X = np.array([domain]).transpose()\n",
    "    # Create linear regression object\n",
    "\n",
    "    # Compute the errors\n",
    "\n",
    "    # Plot outputs"
   ]
  },
  {
   "cell_type": "code",
   "execution_count": 46,
   "metadata": {
    "collapsed": false
   },
   "outputs": [
    {
     "name": "stdout",
     "output_type": "stream",
     "text": [
      "                            OLS Regression Results                            \n",
      "==============================================================================\n",
      "Dep. Variable:                      y   R-squared:                       0.846\n",
      "Model:                            OLS   Adj. R-squared:                  0.839\n",
      "Method:                 Least Squares   F-statistic:                     131.4\n",
      "Date:                Wed, 12 Oct 2016   Prob (F-statistic):           3.22e-11\n",
      "Time:                        11:10:32   Log-Likelihood:                -89.353\n",
      "No. Observations:                  25   AIC:                             180.7\n",
      "Df Residuals:                      24   BIC:                             181.9\n",
      "Df Model:                           1                                         \n",
      "Covariance Type:            nonrobust                                         \n",
      "==============================================================================\n",
      "                 coef    std err          t      P>|t|      [95.0% Conf. Int.]\n",
      "------------------------------------------------------------------------------\n",
      "x1            16.2934      1.422     11.461      0.000        13.359    19.228\n",
      "==============================================================================\n",
      "Omnibus:                        4.388   Durbin-Watson:                   0.087\n",
      "Prob(Omnibus):                  0.111   Jarque-Bera (JB):                3.724\n",
      "Skew:                           0.933   Prob(JB):                        0.155\n",
      "Kurtosis:                       2.698   Cond. No.                         1.00\n",
      "==============================================================================\n",
      "\n",
      "Warnings:\n",
      "[1] Standard Errors assume that the covariance matrix of the errors is correctly specified.\n",
      "Residual sum of squares: 235.36\n",
      "Bias: 159.480615273\n",
      "Variance: 75.8737139454\n"
     ]
    },
    {
     "data": {
      "image/png": "[encoded data removed]",
      "text/plain": [
       "<matplotlib.figure.Figure at 0x11468aa10>"
      ]
     },
     "metadata": {},
     "output_type": "display_data"
    },
    {
     "name": "stdout",
     "output_type": "stream",
     "text": [
      "                            OLS Regression Results                            \n",
      "==============================================================================\n",
      "Dep. Variable:                      y   R-squared:                       0.991\n",
      "Model:                            OLS   Adj. R-squared:                  0.990\n",
      "Method:                 Least Squares   F-statistic:                     1210.\n",
      "Date:                Wed, 12 Oct 2016   Prob (F-statistic):           4.99e-24\n",
      "Time:                        11:10:33   Log-Likelihood:                -54.379\n",
      "No. Observations:                  25   AIC:                             112.8\n",
      "Df Residuals:                      23   BIC:                             115.2\n",
      "Df Model:                           2                                         \n",
      "Covariance Type:            nonrobust                                         \n",
      "==============================================================================\n",
      "                 coef    std err          t      P>|t|      [95.0% Conf. Int.]\n",
      "------------------------------------------------------------------------------\n",
      "x1           -11.3834      1.513     -7.523      0.000       -14.514    -8.253\n",
      "x2            18.3168      0.973     18.827      0.000        16.304    20.329\n",
      "==============================================================================\n",
      "Omnibus:                        5.004   Durbin-Watson:                   0.116\n",
      "Prob(Omnibus):                  0.082   Jarque-Bera (JB):                1.940\n",
      "Skew:                           0.297   Prob(JB):                        0.379\n",
      "Kurtosis:                       1.772   Cond. No.                         9.17\n",
      "==============================================================================\n",
      "\n",
      "Warnings:\n",
      "[1] Standard Errors assume that the covariance matrix of the errors is correctly specified.\n",
      "Residual sum of squares: 230.15\n",
      "Bias: -10.3134380601\n",
      "Variance: 240.451213172\n"
     ]
    },
    {
     "data": {
      "image/png": "[encoded data removed]",
      "text/plain": [
       "<matplotlib.figure.Figure at 0x117e2ffd0>"
      ]
     },
     "metadata": {},
     "output_type": "display_data"
    },
    {
     "name": "stdout",
     "output_type": "stream",
     "text": [
      "                            OLS Regression Results                            \n",
      "==============================================================================\n",
      "Dep. Variable:                      y   R-squared:                       0.998\n",
      "Model:                            OLS   Adj. R-squared:                  0.998\n",
      "Method:                 Least Squares   F-statistic:                     4221.\n",
      "Date:                Wed, 12 Oct 2016   Prob (F-statistic):           1.65e-30\n",
      "Time:                        11:10:33   Log-Likelihood:                -33.234\n",
      "No. Observations:                  25   AIC:                             72.47\n",
      "Df Residuals:                      22   BIC:                             76.13\n",
      "Df Model:                           3                                         \n",
      "Covariance Type:            nonrobust                                         \n",
      "==============================================================================\n",
      "                 coef    std err          t      P>|t|      [95.0% Conf. Int.]\n",
      "------------------------------------------------------------------------------\n",
      "x1             6.5527      1.935      3.387      0.003         2.540    10.565\n",
      "x2           -11.5587      3.057     -3.781      0.001       -17.898    -5.219\n",
      "x3            11.2471      1.140      9.870      0.000         8.884    13.610\n",
      "==============================================================================\n",
      "Omnibus:                       42.793   Durbin-Watson:                   0.383\n",
      "Prob(Omnibus):                  0.000   Jarque-Bera (JB):              149.616\n",
      "Skew:                           3.227   Prob(JB):                     3.25e-33\n",
      "Kurtosis:                      13.098   Cond. No.                         76.2\n",
      "==============================================================================\n",
      "\n",
      "Warnings:\n",
      "[1] Standard Errors assume that the covariance matrix of the errors is correctly specified.\n",
      "Residual sum of squares: 229.96\n",
      "Bias: -5.70266334866\n",
      "Variance: 235.651526808\n"
     ]
    },
    {
     "data": {
      "image/png": "[encoded data removed]",
      "text/plain": [
       "<matplotlib.figure.Figure at 0x118b67b90>"
      ]
     },
     "metadata": {},
     "output_type": "display_data"
    }
   ],
   "source": [
    "domain = np.array([x[0] for x in data])\n",
    "Y = np.array([x[1] for x in data])\n",
    "\n",
    "for i in range(1, 4):\n",
    "    X = polynomials(domain, i)\n",
    "    # Create linear regression object\n",
    "    regr = sm.OLS(Y, X).fit()\n",
    "\n",
    "    yhat = regr.predict(X)\n",
    "    sse = np.mean((np.mean(yhat) - Y) ** 2)\n",
    "    var = np.var(yhat)\n",
    "    bias = sse - var - 0.01\n",
    "    \n",
    "    # The coefficients\n",
    "    print(regr.summary())\n",
    "\n",
    "    # The mean square error\n",
    "    print(\"Residual sum of squares: %.2f\" % sse)\n",
    "\n",
    "    print(\"Bias: {bias}\".format(bias=bias))\n",
    "    print(\"Variance: {var}\".format(var=var))\n",
    "        \n",
    "    # Plot outputs\n",
    "    plt.scatter(domain, Y,  color='black')\n",
    "    plt.plot(domain, regr.predict(X), color='lightgreen', linewidth=3)\n",
    "\n",
    "    plt.title(\"n = \" + str(i))\n",
    "\n",
    "    plt.show()"
   ]
  },
  {
   "cell_type": "code",
   "execution_count": null,
   "metadata": {
    "collapsed": true
   },
   "outputs": [],
   "source": []
  }
 ],
 "metadata": {
  "kernelspec": {
   "display_name": "Python [Root]",
   "language": "python",
   "name": "Python [Root]"
  },
  "language_info": {
   "codemirror_mode": {
    "name": "ipython",
    "version": 2
   },
   "file_extension": ".py",
   "mimetype": "text/x-python",
   "name": "python",
   "nbconvert_exporter": "python",
   "pygments_lexer": "ipython2",
   "version": "2.7.12"
  }
 },
 "nbformat": 4,
 "nbformat_minor": 0
}
